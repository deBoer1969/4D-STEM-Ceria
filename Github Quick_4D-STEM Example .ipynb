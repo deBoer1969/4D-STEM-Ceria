{
 "cells": [
  {
   "cell_type": "code",
   "execution_count": 1,
   "id": "fecd1f9b",
   "metadata": {},
   "outputs": [
    {
     "name": "stdout",
     "output_type": "stream",
     "text": [
      "current version: 1.0.4\n"
     ]
    },
    {
     "ename": "ModuleNotFoundError",
     "evalue": "No module named 'abtem.structures'",
     "output_type": "error",
     "traceback": [
      "\u001b[1;31m---------------------------------------------------------------------------\u001b[0m",
      "\u001b[1;31mModuleNotFoundError\u001b[0m                       Traceback (most recent call last)",
      "Cell \u001b[1;32mIn[1], line 8\u001b[0m\n\u001b[0;32m      5\u001b[0m \u001b[38;5;28;01mfrom\u001b[39;00m \u001b[38;5;21;01mase\u001b[39;00m\u001b[38;5;21;01m.\u001b[39;00m\u001b[38;5;21;01mbuild\u001b[39;00m \u001b[38;5;28;01mimport\u001b[39;00m mx2\n\u001b[0;32m      7\u001b[0m \u001b[38;5;28;01mfrom\u001b[39;00m \u001b[38;5;21;01mabtem\u001b[39;00m \u001b[38;5;28;01mimport\u001b[39;00m \u001b[38;5;241m*\u001b[39m\n\u001b[1;32m----> 8\u001b[0m \u001b[38;5;28;01mfrom\u001b[39;00m \u001b[38;5;21;01mabtem\u001b[39;00m\u001b[38;5;21;01m.\u001b[39;00m\u001b[38;5;21;01mstructures\u001b[39;00m \u001b[38;5;28;01mimport\u001b[39;00m orthogonalize_cell\n",
      "\u001b[1;31mModuleNotFoundError\u001b[0m: No module named 'abtem.structures'"
     ]
    }
   ],
   "source": [
    "from abtem import __version__\n",
    "print('current version:', __version__)\n",
    "\n",
    "import matplotlib.pyplot as plt\n",
    "from ase.build import mx2\n",
    "\n",
    "from abtem import *\n",
    "from abtem.structures import orthogonalize_cell"
   ]
  },
  {
   "cell_type": "code",
   "execution_count": 2,
   "id": "05dc52d8",
   "metadata": {},
   "outputs": [
    {
     "ename": "RuntimeError",
     "evalue": "Cell vectors must have non-zero length.",
     "output_type": "error",
     "traceback": [
      "\u001b[1;31m---------------------------------------------------------------------------\u001b[0m",
      "\u001b[1;31mRuntimeError\u001b[0m                              Traceback (most recent call last)",
      "Cell \u001b[1;32mIn[2], line 5\u001b[0m\n\u001b[0;32m      1\u001b[0m atoms \u001b[38;5;241m=\u001b[39m mx2(formula\u001b[38;5;241m=\u001b[39m\u001b[38;5;124m'\u001b[39m\u001b[38;5;124mMoS2\u001b[39m\u001b[38;5;124m'\u001b[39m, kind\u001b[38;5;241m=\u001b[39m\u001b[38;5;124m'\u001b[39m\u001b[38;5;124m2H\u001b[39m\u001b[38;5;124m'\u001b[39m, a\u001b[38;5;241m=\u001b[39m\u001b[38;5;241m3.18\u001b[39m, thickness\u001b[38;5;241m=\u001b[39m\u001b[38;5;241m3.19\u001b[39m, size\u001b[38;5;241m=\u001b[39m(\u001b[38;5;241m1\u001b[39m, \u001b[38;5;241m1\u001b[39m, \u001b[38;5;241m1\u001b[39m), vacuum\u001b[38;5;241m=\u001b[39m\u001b[38;5;28;01mNone\u001b[39;00m)\n\u001b[0;32m      3\u001b[0m repetitions \u001b[38;5;241m=\u001b[39m (\u001b[38;5;241m8\u001b[39m, \u001b[38;5;241m5\u001b[39m, \u001b[38;5;241m1\u001b[39m)\n\u001b[1;32m----> 5\u001b[0m atoms \u001b[38;5;241m=\u001b[39m \u001b[43morthogonalize_cell\u001b[49m\u001b[43m(\u001b[49m\u001b[43matoms\u001b[49m\u001b[43m)\u001b[49m\n\u001b[0;32m      7\u001b[0m atoms \u001b[38;5;241m*\u001b[39m\u001b[38;5;241m=\u001b[39m repetitions\n\u001b[0;32m      9\u001b[0m atoms\u001b[38;5;241m.\u001b[39mcenter(vacuum\u001b[38;5;241m=\u001b[39m\u001b[38;5;241m2\u001b[39m, axis\u001b[38;5;241m=\u001b[39m\u001b[38;5;241m2\u001b[39m)\n",
      "File \u001b[1;32m~\\anaconda3\\envs\\myenv\\lib\\site-packages\\abtem\\atoms.py:691\u001b[0m, in \u001b[0;36morthogonalize_cell\u001b[1;34m(atoms, max_repetitions, return_transform, allow_transform, plane, origin, box, tolerance)\u001b[0m\n\u001b[0;32m    688\u001b[0m     \u001b[38;5;28;01mreturn\u001b[39;00m atoms\n\u001b[0;32m    690\u001b[0m \u001b[38;5;28;01mif\u001b[39;00m np\u001b[38;5;241m.\u001b[39many(atoms\u001b[38;5;241m.\u001b[39mcell\u001b[38;5;241m.\u001b[39mlengths() \u001b[38;5;241m<\u001b[39m tolerance):\n\u001b[1;32m--> 691\u001b[0m     \u001b[38;5;28;01mraise\u001b[39;00m \u001b[38;5;167;01mRuntimeError\u001b[39;00m(\u001b[38;5;124m\"\u001b[39m\u001b[38;5;124mCell vectors must have non-zero length.\u001b[39m\u001b[38;5;124m\"\u001b[39m)\n\u001b[0;32m    693\u001b[0m inv \u001b[38;5;241m=\u001b[39m np\u001b[38;5;241m.\u001b[39mlinalg\u001b[38;5;241m.\u001b[39minv(atoms\u001b[38;5;241m.\u001b[39mcell)\n\u001b[0;32m    694\u001b[0m vectors \u001b[38;5;241m=\u001b[39m np\u001b[38;5;241m.\u001b[39mdot(np\u001b[38;5;241m.\u001b[39mdiag(box), inv)\n",
      "\u001b[1;31mRuntimeError\u001b[0m: Cell vectors must have non-zero length."
     ]
    }
   ],
   "source": [
    "atoms = mx2(formula='MoS2', kind='2H', a=3.18, thickness=3.19, size=(1, 1, 1), vacuum=None)\n",
    "\n",
    "repetitions = (8, 5, 1)\n",
    "\n",
    "atoms = orthogonalize_cell(atoms)\n",
    "\n",
    "atoms *= repetitions\n",
    "\n",
    "atoms.center(vacuum=2, axis=2)\n",
    "\n",
    "fig, (ax1, ax2) = plt.subplots(1, 2, figsize=(12,4))\n",
    "\n",
    "show_atoms(atoms, ax=ax1, title='Top view')\n",
    "show_atoms(atoms, ax=ax2, plane='xz', title='Side view')"
   ]
  },
  {
   "cell_type": "code",
   "execution_count": 3,
   "id": "31b74635",
   "metadata": {},
   "outputs": [
    {
     "name": "stdout",
     "output_type": "stream",
     "text": [
      "Simulation cell: Cell([[3.18, 0.0, 0.0], [-1.59, 2.753960784034515, 0.0], [0.0, 0.0, 0.0]])\n"
     ]
    }
   ],
   "source": [
    "print(f\"Simulation cell: {atoms.cell}\")"
   ]
  },
  {
   "cell_type": "code",
   "execution_count": 4,
   "id": "49004e9a",
   "metadata": {},
   "outputs": [
    {
     "name": "stderr",
     "output_type": "stream",
     "text": [
      "C:\\Users\\Joshu\\anaconda3\\envs\\myenv\\lib\\site-packages\\abtem\\slicing.py:48: RuntimeWarning: invalid value encountered in double_scalars\n",
      "  slice_thickness = (thickness / n,) * int(n)\n"
     ]
    },
    {
     "ename": "TypeError",
     "evalue": "_PotentialBuilder.build() got an unexpected keyword argument 'pbar'",
     "output_type": "error",
     "traceback": [
      "\u001b[1;31m---------------------------------------------------------------------------\u001b[0m",
      "\u001b[1;31mTypeError\u001b[0m                                 Traceback (most recent call last)",
      "Cell \u001b[1;32mIn[4], line 1\u001b[0m\n\u001b[1;32m----> 1\u001b[0m potential \u001b[38;5;241m=\u001b[39m \u001b[43mPotential\u001b[49m\u001b[43m(\u001b[49m\u001b[43matoms\u001b[49m\u001b[43m,\u001b[49m\u001b[43m \u001b[49m\n\u001b[0;32m      2\u001b[0m \u001b[43m                      \u001b[49m\u001b[43mgpts\u001b[49m\u001b[38;5;241;43m=\u001b[39;49m\u001b[38;5;241;43m1024\u001b[39;49m\u001b[43m,\u001b[49m\n\u001b[0;32m      3\u001b[0m \u001b[43m                      \u001b[49m\u001b[43mprojection\u001b[49m\u001b[38;5;241;43m=\u001b[39;49m\u001b[38;5;124;43m'\u001b[39;49m\u001b[38;5;124;43mfinite\u001b[39;49m\u001b[38;5;124;43m'\u001b[39;49m\u001b[43m,\u001b[49m\u001b[43m \u001b[49m\n\u001b[0;32m      4\u001b[0m \u001b[43m                      \u001b[49m\u001b[43mslice_thickness\u001b[49m\u001b[38;5;241;43m=\u001b[39;49m\u001b[38;5;241;43m1\u001b[39;49m\u001b[43m,\u001b[49m\u001b[43m \u001b[49m\n\u001b[0;32m      5\u001b[0m \u001b[43m                      \u001b[49m\u001b[43mparametrization\u001b[49m\u001b[38;5;241;43m=\u001b[39;49m\u001b[38;5;124;43m'\u001b[39;49m\u001b[38;5;124;43mkirkland\u001b[39;49m\u001b[38;5;124;43m'\u001b[39;49m\u001b[43m)\u001b[49m\u001b[38;5;241;43m.\u001b[39;49m\u001b[43mbuild\u001b[49m\u001b[43m(\u001b[49m\u001b[43mpbar\u001b[49m\u001b[38;5;241;43m=\u001b[39;49m\u001b[38;5;28;43;01mTrue\u001b[39;49;00m\u001b[43m)\u001b[49m\n",
      "\u001b[1;31mTypeError\u001b[0m: _PotentialBuilder.build() got an unexpected keyword argument 'pbar'"
     ]
    }
   ],
   "source": [
    "potential = Potential(atoms, \n",
    "                      gpts=1024,\n",
    "                      projection='finite', \n",
    "                      slice_thickness=1, \n",
    "                      parametrization='kirkland').build(pbar=True)"
   ]
  },
  {
   "cell_type": "code",
   "execution_count": 5,
   "id": "ebe1cbb7",
   "metadata": {},
   "outputs": [
    {
     "ename": "NameError",
     "evalue": "name 'potential' is not defined",
     "output_type": "error",
     "traceback": [
      "\u001b[1;31m---------------------------------------------------------------------------\u001b[0m",
      "\u001b[1;31mNameError\u001b[0m                                 Traceback (most recent call last)",
      "Cell \u001b[1;32mIn[5], line 1\u001b[0m\n\u001b[1;32m----> 1\u001b[0m \u001b[38;5;28mprint\u001b[39m(\u001b[38;5;124mf\u001b[39m\u001b[38;5;124m\"\u001b[39m\u001b[38;5;124mReal space sampling: \u001b[39m\u001b[38;5;132;01m{\u001b[39;00m\u001b[43mpotential\u001b[49m\u001b[38;5;241m.\u001b[39msampling\u001b[38;5;132;01m}\u001b[39;00m\u001b[38;5;124m\"\u001b[39m)\n",
      "\u001b[1;31mNameError\u001b[0m: name 'potential' is not defined"
     ]
    }
   ],
   "source": [
    "print(f\"Real space sampling: {potential.sampling}\")"
   ]
  },
  {
   "cell_type": "code",
   "execution_count": 6,
   "id": "73e1db47",
   "metadata": {},
   "outputs": [
    {
     "ename": "ValueError",
     "evalue": "rolloff not a recognized parameter",
     "output_type": "error",
     "traceback": [
      "\u001b[1;31m---------------------------------------------------------------------------\u001b[0m",
      "\u001b[1;31mValueError\u001b[0m                                Traceback (most recent call last)",
      "Cell \u001b[1;32mIn[6], line 1\u001b[0m\n\u001b[1;32m----> 1\u001b[0m probe \u001b[38;5;241m=\u001b[39m \u001b[43mProbe\u001b[49m\u001b[43m(\u001b[49m\u001b[43menergy\u001b[49m\u001b[38;5;241;43m=\u001b[39;49m\u001b[38;5;241;43m80e3\u001b[39;49m\u001b[43m,\u001b[49m\u001b[43m \u001b[49m\u001b[43msemiangle_cutoff\u001b[49m\u001b[38;5;241;43m=\u001b[39;49m\u001b[38;5;241;43m20\u001b[39;49m\u001b[43m,\u001b[49m\u001b[43m \u001b[49m\u001b[43mrolloff\u001b[49m\u001b[38;5;241;43m=\u001b[39;49m\u001b[38;5;241;43m0.1\u001b[39;49m\u001b[43m,\u001b[49m\u001b[43m \u001b[49m\u001b[43mdefocus\u001b[49m\u001b[38;5;241;43m=\u001b[39;49m\u001b[38;5;241;43m40\u001b[39;49m\u001b[43m,\u001b[49m\u001b[43m \u001b[49m\u001b[43mCs\u001b[49m\u001b[38;5;241;43m=\u001b[39;49m\u001b[38;5;241;43m3e5\u001b[39;49m\u001b[43m,\u001b[49m\u001b[43m \u001b[49m\u001b[43mfocal_spread\u001b[49m\u001b[38;5;241;43m=\u001b[39;49m\u001b[38;5;241;43m20\u001b[39;49m\u001b[43m)\u001b[49m\n\u001b[0;32m      3\u001b[0m probe\u001b[38;5;241m.\u001b[39mgrid\u001b[38;5;241m.\u001b[39mmatch(potential)\n\u001b[0;32m      5\u001b[0m fig, (ax1, ax2) \u001b[38;5;241m=\u001b[39m plt\u001b[38;5;241m.\u001b[39msubplots(\u001b[38;5;241m1\u001b[39m, \u001b[38;5;241m2\u001b[39m, figsize\u001b[38;5;241m=\u001b[39m(\u001b[38;5;241m12\u001b[39m,\u001b[38;5;241m4\u001b[39m))\n",
      "File \u001b[1;32m~\\anaconda3\\envs\\myenv\\lib\\site-packages\\abtem\\waves.py:1403\u001b[0m, in \u001b[0;36mProbe.__init__\u001b[1;34m(self, semiangle_cutoff, extent, gpts, sampling, energy, soft, tilt, device, aperture, aberrations, positions, metadata, **kwargs)\u001b[0m\n\u001b[0;32m   1400\u001b[0m     aberrations \u001b[38;5;241m=\u001b[39m {}\n\u001b[0;32m   1402\u001b[0m \u001b[38;5;28;01mif\u001b[39;00m \u001b[38;5;28misinstance\u001b[39m(aberrations, \u001b[38;5;28mdict\u001b[39m):\n\u001b[1;32m-> 1403\u001b[0m     aberrations \u001b[38;5;241m=\u001b[39m Aberrations(energy\u001b[38;5;241m=\u001b[39menergy, \u001b[38;5;241m*\u001b[39m\u001b[38;5;241m*\u001b[39maberrations, \u001b[38;5;241m*\u001b[39m\u001b[38;5;241m*\u001b[39mkwargs)\n\u001b[0;32m   1405\u001b[0m aberrations\u001b[38;5;241m.\u001b[39m_accelerator \u001b[38;5;241m=\u001b[39m \u001b[38;5;28mself\u001b[39m\u001b[38;5;241m.\u001b[39m_accelerator\n\u001b[0;32m   1406\u001b[0m \u001b[38;5;28mself\u001b[39m\u001b[38;5;241m.\u001b[39m_grid \u001b[38;5;241m=\u001b[39m Grid(extent\u001b[38;5;241m=\u001b[39mextent, gpts\u001b[38;5;241m=\u001b[39mgpts, sampling\u001b[38;5;241m=\u001b[39msampling)\n",
      "File \u001b[1;32m~\\anaconda3\\envs\\myenv\\lib\\site-packages\\abtem\\transfer.py:1171\u001b[0m, in \u001b[0;36mAberrations.__init__\u001b[1;34m(self, aberration_coefficients, energy, extent, gpts, sampling, **kwargs)\u001b[0m\n\u001b[0;32m   1169\u001b[0m aberration_coefficients \u001b[38;5;241m=\u001b[39m {\u001b[38;5;241m*\u001b[39m\u001b[38;5;241m*\u001b[39maberration_coefficients, \u001b[38;5;241m*\u001b[39m\u001b[38;5;241m*\u001b[39mkwargs}\n\u001b[0;32m   1170\u001b[0m \u001b[38;5;28mself\u001b[39m\u001b[38;5;241m.\u001b[39m_aberration_coefficients \u001b[38;5;241m=\u001b[39m \u001b[38;5;28mself\u001b[39m\u001b[38;5;241m.\u001b[39m_default_aberration_coefficients()\n\u001b[1;32m-> 1171\u001b[0m \u001b[38;5;28;43mself\u001b[39;49m\u001b[38;5;241;43m.\u001b[39;49m\u001b[43mset_aberrations\u001b[49m\u001b[43m(\u001b[49m\u001b[43maberration_coefficients\u001b[49m\u001b[43m)\u001b[49m\n",
      "File \u001b[1;32m~\\anaconda3\\envs\\myenv\\lib\\site-packages\\abtem\\transfer.py:915\u001b[0m, in \u001b[0;36m_HasAberrations.set_aberrations\u001b[1;34m(self, aberration_coefficients)\u001b[0m\n\u001b[0;32m    912\u001b[0m         \u001b[38;5;28mself\u001b[39m\u001b[38;5;241m.\u001b[39m_aberration_coefficients[\u001b[38;5;28mself\u001b[39m\u001b[38;5;241m.\u001b[39m_aliases()[symbol]] \u001b[38;5;241m=\u001b[39m value\n\u001b[0;32m    914\u001b[0m     \u001b[38;5;28;01melse\u001b[39;00m:\n\u001b[1;32m--> 915\u001b[0m         \u001b[38;5;28;01mraise\u001b[39;00m \u001b[38;5;167;01mValueError\u001b[39;00m(\u001b[38;5;124m\"\u001b[39m\u001b[38;5;132;01m{}\u001b[39;00m\u001b[38;5;124m not a recognized parameter\u001b[39m\u001b[38;5;124m\"\u001b[39m\u001b[38;5;241m.\u001b[39mformat(symbol))\n\u001b[0;32m    917\u001b[0m \u001b[38;5;28;01mfor\u001b[39;00m symbol, value \u001b[38;5;129;01min\u001b[39;00m aberration_coefficients\u001b[38;5;241m.\u001b[39mitems():\n\u001b[0;32m    918\u001b[0m     \u001b[38;5;28;01mif\u001b[39;00m symbol \u001b[38;5;129;01min\u001b[39;00m (\u001b[38;5;124m\"\u001b[39m\u001b[38;5;124mdefocus\u001b[39m\u001b[38;5;124m\"\u001b[39m, \u001b[38;5;124m\"\u001b[39m\u001b[38;5;124mC10\u001b[39m\u001b[38;5;124m\"\u001b[39m):\n",
      "\u001b[1;31mValueError\u001b[0m: rolloff not a recognized parameter"
     ]
    }
   ],
   "source": [
    "probe = Probe(energy=80e3, semiangle_cutoff=20, rolloff=0.1, defocus=40, Cs=3e5, focal_spread=20)\n",
    "\n",
    "probe.grid.match(potential)\n",
    "\n",
    "fig, (ax1, ax2) = plt.subplots(1, 2, figsize=(12,4))\n",
    "probe.profile().show(ax=ax1);\n",
    "probe.ctf.show(ax=ax2);"
   ]
  },
  {
   "cell_type": "code",
   "execution_count": 7,
   "id": "50788ca7",
   "metadata": {},
   "outputs": [],
   "source": [
    "detector = PixelatedDetector(max_angle='valid')"
   ]
  },
  {
   "cell_type": "code",
   "execution_count": 8,
   "id": "6db22544",
   "metadata": {},
   "outputs": [
    {
     "ename": "NameError",
     "evalue": "name 'potential' is not defined",
     "output_type": "error",
     "traceback": [
      "\u001b[1;31m---------------------------------------------------------------------------\u001b[0m",
      "\u001b[1;31mNameError\u001b[0m                                 Traceback (most recent call last)",
      "Cell \u001b[1;32mIn[8], line 1\u001b[0m\n\u001b[1;32m----> 1\u001b[0m scan_end \u001b[38;5;241m=\u001b[39m (\u001b[43mpotential\u001b[49m\u001b[38;5;241m.\u001b[39mextent[\u001b[38;5;241m0\u001b[39m] \u001b[38;5;241m/\u001b[39m repetitions[\u001b[38;5;241m0\u001b[39m], potential\u001b[38;5;241m.\u001b[39mextent[\u001b[38;5;241m1\u001b[39m] \u001b[38;5;241m/\u001b[39m repetitions[\u001b[38;5;241m1\u001b[39m])\n\u001b[0;32m      3\u001b[0m gridscan \u001b[38;5;241m=\u001b[39m GridScan(start\u001b[38;5;241m=\u001b[39m[\u001b[38;5;241m0\u001b[39m, \u001b[38;5;241m0\u001b[39m], end\u001b[38;5;241m=\u001b[39mscan_end, sampling\u001b[38;5;241m=\u001b[39mprobe\u001b[38;5;241m.\u001b[39mctf\u001b[38;5;241m.\u001b[39mnyquist_sampling \u001b[38;5;241m*\u001b[39m \u001b[38;5;241m.9\u001b[39m)\n\u001b[0;32m      5\u001b[0m measurement \u001b[38;5;241m=\u001b[39m probe\u001b[38;5;241m.\u001b[39mscan(gridscan, detector, potential)\n",
      "\u001b[1;31mNameError\u001b[0m: name 'potential' is not defined"
     ]
    }
   ],
   "source": [
    "scan_end = (potential.extent[0] / repetitions[0], potential.extent[1] / repetitions[1])\n",
    "\n",
    "gridscan = GridScan(start=[0, 0], end=scan_end, sampling=probe.ctf.nyquist_sampling * .9)\n",
    "\n",
    "measurement = probe.scan(gridscan, detector, potential)\n",
    "\n"
   ]
  },
  {
   "cell_type": "code",
   "execution_count": 9,
   "id": "d49f2182",
   "metadata": {},
   "outputs": [
    {
     "ename": "NameError",
     "evalue": "name 'measurement' is not defined",
     "output_type": "error",
     "traceback": [
      "\u001b[1;31m---------------------------------------------------------------------------\u001b[0m",
      "\u001b[1;31mNameError\u001b[0m                                 Traceback (most recent call last)",
      "Cell \u001b[1;32mIn[9], line 1\u001b[0m\n\u001b[1;32m----> 1\u001b[0m \u001b[38;5;28mprint\u001b[39m(\u001b[43mmeasurement\u001b[49m, measurement\u001b[38;5;241m.\u001b[39marray\u001b[38;5;241m.\u001b[39mshape)\n",
      "\u001b[1;31mNameError\u001b[0m: name 'measurement' is not defined"
     ]
    }
   ],
   "source": [
    "print(measurement, measurement.array.shape)"
   ]
  },
  {
   "cell_type": "code",
   "execution_count": 10,
   "id": "7533721c",
   "metadata": {},
   "outputs": [
    {
     "ename": "NameError",
     "evalue": "name 'measurement' is not defined",
     "output_type": "error",
     "traceback": [
      "\u001b[1;31m---------------------------------------------------------------------------\u001b[0m",
      "\u001b[1;31mNameError\u001b[0m                                 Traceback (most recent call last)",
      "Cell \u001b[1;32mIn[10], line 3\u001b[0m\n\u001b[0;32m      1\u001b[0m fig, (ax1, ax2, ax3) \u001b[38;5;241m=\u001b[39m plt\u001b[38;5;241m.\u001b[39msubplots(\u001b[38;5;241m1\u001b[39m, \u001b[38;5;241m3\u001b[39m, figsize\u001b[38;5;241m=\u001b[39m(\u001b[38;5;241m15\u001b[39m,\u001b[38;5;241m4\u001b[39m))\n\u001b[1;32m----> 3\u001b[0m \u001b[43mmeasurement\u001b[49m[\u001b[38;5;241m0\u001b[39m, \u001b[38;5;241m0\u001b[39m]\u001b[38;5;241m.\u001b[39mshow(cmap\u001b[38;5;241m=\u001b[39m\u001b[38;5;124m'\u001b[39m\u001b[38;5;124minferno\u001b[39m\u001b[38;5;124m'\u001b[39m, ax\u001b[38;5;241m=\u001b[39max1)\n\u001b[0;32m      4\u001b[0m measurement[\u001b[38;5;241m0\u001b[39m, \u001b[38;5;241m3\u001b[39m]\u001b[38;5;241m.\u001b[39mshow(cmap\u001b[38;5;241m=\u001b[39m\u001b[38;5;124m'\u001b[39m\u001b[38;5;124minferno\u001b[39m\u001b[38;5;124m'\u001b[39m, ax\u001b[38;5;241m=\u001b[39max2)\n\u001b[0;32m      5\u001b[0m measurement[\u001b[38;5;241m1\u001b[39m, \u001b[38;5;241m1\u001b[39m]\u001b[38;5;241m.\u001b[39mshow(cmap\u001b[38;5;241m=\u001b[39m\u001b[38;5;124m'\u001b[39m\u001b[38;5;124minferno\u001b[39m\u001b[38;5;124m'\u001b[39m, ax\u001b[38;5;241m=\u001b[39max3, power\u001b[38;5;241m=\u001b[39m\u001b[38;5;241m.025\u001b[39m); \u001b[38;5;66;03m# displayed on power scale\u001b[39;00m\n",
      "\u001b[1;31mNameError\u001b[0m: name 'measurement' is not defined"
     ]
    },
    {
     "data": {
      "image/png": "[encoded data removed]",
      "text/plain": [
       "<Figure size 1500x400 with 3 Axes>"
      ]
     },
     "metadata": {},
     "output_type": "display_data"
    }
   ],
   "source": [
    "fig, (ax1, ax2, ax3) = plt.subplots(1, 3, figsize=(15,4))\n",
    "\n",
    "measurement[0, 0].show(cmap='inferno', ax=ax1)\n",
    "measurement[0, 3].show(cmap='inferno', ax=ax2)\n",
    "measurement[1, 1].show(cmap='inferno', ax=ax3, power=.025); # displayed on power scale\n",
    "\n",
    "for ax in (ax1, ax2, ax3):\n",
    "    ax.set_xlim([-50, 50])\n",
    "    ax.set_ylim([-50, 50])"
   ]
  },
  {
   "cell_type": "code",
   "execution_count": 11,
   "id": "29079408",
   "metadata": {},
   "outputs": [
    {
     "ename": "ModuleNotFoundError",
     "evalue": "No module named 'abtem.detect'",
     "output_type": "error",
     "traceback": [
      "\u001b[1;31m---------------------------------------------------------------------------\u001b[0m",
      "\u001b[1;31mModuleNotFoundError\u001b[0m                       Traceback (most recent call last)",
      "Cell \u001b[1;32mIn[11], line 1\u001b[0m\n\u001b[1;32m----> 1\u001b[0m \u001b[38;5;28;01mfrom\u001b[39;00m \u001b[38;5;21;01mabtem\u001b[39;00m\u001b[38;5;21;01m.\u001b[39;00m\u001b[38;5;21;01mdetect\u001b[39;00m \u001b[38;5;28;01mimport\u001b[39;00m AnnularDetector\n\u001b[0;32m      3\u001b[0m bright_detector \u001b[38;5;241m=\u001b[39m AnnularDetector(inner\u001b[38;5;241m=\u001b[39m\u001b[38;5;241m0\u001b[39m, outer\u001b[38;5;241m=\u001b[39m\u001b[38;5;241m20\u001b[39m)\n\u001b[0;32m      4\u001b[0m maadf_detector \u001b[38;5;241m=\u001b[39m AnnularDetector(inner\u001b[38;5;241m=\u001b[39m\u001b[38;5;241m45\u001b[39m, outer\u001b[38;5;241m=\u001b[39m\u001b[38;5;241m100\u001b[39m)\n",
      "\u001b[1;31mModuleNotFoundError\u001b[0m: No module named 'abtem.detect'"
     ]
    }
   ],
   "source": [
    "from abtem.detect import AnnularDetector\n",
    "\n",
    "bright_detector = AnnularDetector(inner=0, outer=20)\n",
    "maadf_detector = AnnularDetector(inner=45, outer=100)\n",
    "\n",
    "fig, (ax1, ax2) = plt.subplots(1, 2, figsize=(8,4))\n",
    "\n",
    "bright_measurement = bright_detector.integrate(measurement)\n",
    "bright_measurement.tile((3,2)).interpolate(.05).show(ax=ax1)\n",
    "\n",
    "maadf_measurement = maadf_detector.integrate(measurement)\n",
    "maadf_measurement.tile((3,2)).interpolate(.05).show(ax=ax2);"
   ]
  },
  {
   "cell_type": "code",
   "execution_count": 12,
   "id": "27c5fb33",
   "metadata": {},
   "outputs": [
    {
     "ename": "ModuleNotFoundError",
     "evalue": "No module named 'abtem.measure'",
     "output_type": "error",
     "traceback": [
      "\u001b[1;31m---------------------------------------------------------------------------\u001b[0m",
      "\u001b[1;31mModuleNotFoundError\u001b[0m                       Traceback (most recent call last)",
      "Cell \u001b[1;32mIn[12], line 1\u001b[0m\n\u001b[1;32m----> 1\u001b[0m \u001b[38;5;28;01mfrom\u001b[39;00m \u001b[38;5;21;01mabtem\u001b[39;00m\u001b[38;5;21;01m.\u001b[39;00m\u001b[38;5;21;01mmeasure\u001b[39;00m \u001b[38;5;28;01mimport\u001b[39;00m center_of_mass\n\u001b[0;32m      3\u001b[0m com_x, com_y \u001b[38;5;241m=\u001b[39m center_of_mass(measurement)\n\u001b[0;32m      5\u001b[0m fig, (ax1, ax2) \u001b[38;5;241m=\u001b[39m plt\u001b[38;5;241m.\u001b[39msubplots(\u001b[38;5;241m1\u001b[39m, \u001b[38;5;241m2\u001b[39m, figsize\u001b[38;5;241m=\u001b[39m(\u001b[38;5;241m10\u001b[39m,\u001b[38;5;241m4\u001b[39m))\n",
      "\u001b[1;31mModuleNotFoundError\u001b[0m: No module named 'abtem.measure'"
     ]
    }
   ],
   "source": [
    "from abtem.measure import center_of_mass\n",
    "\n",
    "com_x, com_y = center_of_mass(measurement)\n",
    "\n",
    "fig, (ax1, ax2) = plt.subplots(1, 2, figsize=(10,4))\n",
    "\n",
    "com_x.tile((3, 2)).interpolate(.1).show(ax=ax1, cbar=True)\n",
    "com_y.tile((3, 2)).interpolate(.1).show(ax=ax2, cbar=True);"
   ]
  },
  {
   "cell_type": "code",
   "execution_count": 13,
   "id": "90f37d94",
   "metadata": {},
   "outputs": [
    {
     "ename": "NameError",
     "evalue": "name 'center_of_mass' is not defined",
     "output_type": "error",
     "traceback": [
      "\u001b[1;31m---------------------------------------------------------------------------\u001b[0m",
      "\u001b[1;31mNameError\u001b[0m                                 Traceback (most recent call last)",
      "Cell \u001b[1;32mIn[13], line 1\u001b[0m\n\u001b[1;32m----> 1\u001b[0m icom \u001b[38;5;241m=\u001b[39m \u001b[43mcenter_of_mass\u001b[49m(measurement, return_icom\u001b[38;5;241m=\u001b[39m\u001b[38;5;28;01mTrue\u001b[39;00m)\n\u001b[0;32m      3\u001b[0m icom\u001b[38;5;241m.\u001b[39minterpolate(\u001b[38;5;241m.08\u001b[39m)\u001b[38;5;241m.\u001b[39mtile((\u001b[38;5;241m3\u001b[39m,\u001b[38;5;241m2\u001b[39m))\u001b[38;5;241m.\u001b[39mshow()\n",
      "\u001b[1;31mNameError\u001b[0m: name 'center_of_mass' is not defined"
     ]
    }
   ],
   "source": [
    "icom = center_of_mass(measurement, return_icom=True)\n",
    "\n",
    "icom.interpolate(.08).tile((3,2)).show()"
   ]
  },
  {
   "cell_type": "code",
   "execution_count": 14,
   "id": "5cd079fb",
   "metadata": {},
   "outputs": [
    {
     "ename": "NameError",
     "evalue": "name 'measurement' is not defined",
     "output_type": "error",
     "traceback": [
      "\u001b[1;31m---------------------------------------------------------------------------\u001b[0m",
      "\u001b[1;31mNameError\u001b[0m                                 Traceback (most recent call last)",
      "Cell \u001b[1;32mIn[14], line 1\u001b[0m\n\u001b[1;32m----> 1\u001b[0m pacbed \u001b[38;5;241m=\u001b[39m \u001b[43mmeasurement\u001b[49m\u001b[38;5;241m.\u001b[39mmean(axis\u001b[38;5;241m=\u001b[39m(\u001b[38;5;241m0\u001b[39m, \u001b[38;5;241m1\u001b[39m))\n\u001b[0;32m      3\u001b[0m ax, _ \u001b[38;5;241m=\u001b[39m pacbed\u001b[38;5;241m.\u001b[39mshow(cmap\u001b[38;5;241m=\u001b[39m\u001b[38;5;124m'\u001b[39m\u001b[38;5;124minferno\u001b[39m\u001b[38;5;124m'\u001b[39m, power\u001b[38;5;241m=\u001b[39m\u001b[38;5;241m.2\u001b[39m)\n\u001b[0;32m      5\u001b[0m ax\u001b[38;5;241m.\u001b[39mset_xlim([\u001b[38;5;241m-\u001b[39m\u001b[38;5;241m60\u001b[39m, \u001b[38;5;241m60\u001b[39m])\n",
      "\u001b[1;31mNameError\u001b[0m: name 'measurement' is not defined"
     ]
    }
   ],
   "source": [
    "\n",
    "pacbed = measurement.mean(axis=(0, 1))\n",
    "\n",
    "ax, _ = pacbed.show(cmap='inferno', power=.2)\n",
    "\n",
    "ax.set_xlim([-60, 60])\n",
    "ax.set_ylim([-60, 60]);\n",
    "\n"
   ]
  },
  {
   "cell_type": "code",
   "execution_count": null,
   "id": "128a224f",
   "metadata": {},
   "outputs": [],
   "source": []
  }
 ],
 "metadata": {
  "kernelspec": {
   "display_name": "Python (myenv)",
   "language": "python",
   "name": "myenv"
  },
  "language_info": {
   "codemirror_mode": {
    "name": "ipython",
    "version": 3
   },
   "file_extension": ".py",
   "mimetype": "text/x-python",
   "name": "python",
   "nbconvert_exporter": "python",
   "pygments_lexer": "ipython3",
   "version": "3.10.13"
  }
 },
 "nbformat": 4,
 "nbformat_minor": 5
}
